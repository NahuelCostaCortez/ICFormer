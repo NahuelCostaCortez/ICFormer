{
 "cells": [
  {
   "cell_type": "code",
   "execution_count": 1,
   "metadata": {},
   "outputs": [],
   "source": [
    "import sys\n",
    "sys.path.append(\"../\")\n",
    "import numpy as np\n",
    "from sklearn.metrics import mean_squared_error as rmse, classification_report\n",
    "import h5py\n",
    "from IPython.display import display\n",
    "import pandas as pd\n",
    "from statistics import stdev"
   ]
  },
  {
   "attachments": {},
   "cell_type": "markdown",
   "metadata": {},
   "source": [
    "## ICFormer"
   ]
  },
  {
   "cell_type": "code",
   "execution_count": 11,
   "metadata": {},
   "outputs": [],
   "source": [
    "import ICFormer\n",
    "\n",
    "model = ICFormer(\n",
    "        look_back=5,\n",
    "        n_features=128,\n",
    "        num_transformer_blocks=4,\n",
    "        num_heads=2,\n",
    "        head_size=28,\n",
    "        ff_dim=28,\n",
    "        mlp_units=128,\n",
    "        mlp_dropout=0.0,\n",
    "        dropout=0.0\n",
    "    )\n",
    "\n",
    "model.build(input_shape=(None, 5, 128))\n",
    "model.load_weights('../saved/ICFormer_bestModel.hdf5')"
   ]
  },
  {
   "cell_type": "code",
   "execution_count": 7,
   "metadata": {},
   "outputs": [],
   "source": [
    "def get_pred(model, time_steps, x_tests, y_test):\n",
    "    '''\n",
    "    Prints predictions for test sets\n",
    "    Parameters\n",
    "    ----------\n",
    "    model: h5py object, trained model\n",
    "    x_test: list, test sets\n",
    "    y_test: array, test set labels\n",
    "    reshape: bool, if True, an extra dimension is added to the input\n",
    "    DTW: bool, if True, the data is reshaped to the DTW model input shape\n",
    "    '''\n",
    "    average = []\n",
    "    std = []\n",
    "\n",
    "    for x, y in zip(x_tests, y_test):\n",
    "        cycles = [200, 400, 600, 800, 1000]\n",
    "        \n",
    "        predictions_reg, predictions_clf, attention_outputs, attention_weights, attention_outputs_sum = model.predict(x)\n",
    "        predictions_reg = predictions_reg.reshape(predictions_reg.shape[0], time_steps, predictions_reg.shape[1]//time_steps)\n",
    "\n",
    "        predictions_LLI = np.zeros(len(cycles))\n",
    "        predictions_LAMPE = np.zeros(len(cycles))\n",
    "        predictions_LAMNE = np.zeros(len(cycles))\n",
    "\n",
    "        for cycle in range(x.shape[1]):\n",
    "\n",
    "            predictions_LLI[cycle] = rmse(y[:, cycle, 0], predictions_reg[:, cycle, 0], squared=False)\n",
    "            predictions_LAMPE[cycle] = rmse(y[:, cycle, 1], predictions_reg[:, cycle, 1], squared=False)\n",
    "            predictions_LAMNE[cycle] = rmse(y[:, cycle, 2], predictions_reg[:, cycle, 2], squared=False)\n",
    "\n",
    "        df = pd.DataFrame(np.stack((predictions_LLI, predictions_LAMPE, predictions_LAMNE)), index=['LLI', 'LAMPE', 'LAMNE'],columns=[200, 400, 600, 800, 1000])\n",
    "        average.append(np.mean(df.mean(axis=1)))\n",
    "        std.append(stdev(df.mean(axis=1)))\t\t\n",
    "        display(df)\n",
    "        print('Average RMSPE: ', np.mean(df.mean(axis=1)))\n",
    "        print('Std RMSPE: ', stdev(df.mean(axis=1)),'\\n')\n",
    "\t\n",
    "    print('Average RMSPE: ', np.mean(average))\n",
    "    print('Std RMSPE: ', np.mean(std))\n",
    "\n",
    "def get_pred_clf(model, x_tests, y_test):\n",
    "\n",
    "    for x, y in zip(x_tests, y_test):\n",
    "        \n",
    "        predictions_reg, predictions_clf, attention_outputs, attention_weights, attention_outputs_sum = model.predict(x)\n",
    "        print(classification_report(y, np.round(predictions_clf)))"
   ]
  },
  {
   "cell_type": "code",
   "execution_count": 5,
   "metadata": {},
   "outputs": [],
   "source": [
    "chemistry = 'LFP' # 'LFP', 'NCA' or 'NMC'\n",
    "path = '../data/'+chemistry\n",
    "\n",
    "# load data\n",
    "with h5py.File(path+'/test/datasets.h5', 'r') as h5f:\n",
    "    test_datasets_ICs = h5f['x_test'][:]\n",
    "    test_datasets_degradation_modes = h5f['y_test'][:]\n",
    "    test_datasets_QLs = h5f['y_test_QLs'][:]\n",
    "    test_datasets_silent_modes = h5f['y_test_silent_modes'][:]"
   ]
  },
  {
   "cell_type": "markdown",
   "metadata": {},
   "source": [
    "The first table correspond to the training cell, the rest to the test cells"
   ]
  },
  {
   "cell_type": "code",
   "execution_count": 9,
   "metadata": {},
   "outputs": [
    {
     "name": "stdout",
     "output_type": "stream",
     "text": [
      "32/32 [==============================] - 2s 15ms/step\n"
     ]
    },
    {
     "data": {
      "text/html": [
       "<div>\n",
       "<style scoped>\n",
       "    .dataframe tbody tr th:only-of-type {\n",
       "        vertical-align: middle;\n",
       "    }\n",
       "\n",
       "    .dataframe tbody tr th {\n",
       "        vertical-align: top;\n",
       "    }\n",
       "\n",
       "    .dataframe thead th {\n",
       "        text-align: right;\n",
       "    }\n",
       "</style>\n",
       "<table border=\"1\" class=\"dataframe\">\n",
       "  <thead>\n",
       "    <tr style=\"text-align: right;\">\n",
       "      <th></th>\n",
       "      <th>200</th>\n",
       "      <th>400</th>\n",
       "      <th>600</th>\n",
       "      <th>800</th>\n",
       "      <th>1000</th>\n",
       "    </tr>\n",
       "  </thead>\n",
       "  <tbody>\n",
       "    <tr>\n",
       "      <th>LLI</th>\n",
       "      <td>0.957082</td>\n",
       "      <td>1.021810</td>\n",
       "      <td>1.205021</td>\n",
       "      <td>1.537135</td>\n",
       "      <td>2.197389</td>\n",
       "    </tr>\n",
       "    <tr>\n",
       "      <th>LAMPE</th>\n",
       "      <td>1.259951</td>\n",
       "      <td>1.613073</td>\n",
       "      <td>2.379413</td>\n",
       "      <td>3.262489</td>\n",
       "      <td>4.206336</td>\n",
       "    </tr>\n",
       "    <tr>\n",
       "      <th>LAMNE</th>\n",
       "      <td>1.684896</td>\n",
       "      <td>2.091862</td>\n",
       "      <td>2.643165</td>\n",
       "      <td>3.316923</td>\n",
       "      <td>4.191695</td>\n",
       "    </tr>\n",
       "  </tbody>\n",
       "</table>\n",
       "</div>"
      ],
      "text/plain": [
       "           200       400       600       800       1000\n",
       "LLI    0.957082  1.021810  1.205021  1.537135  2.197389\n",
       "LAMPE  1.259951  1.613073  2.379413  3.262489  4.206336\n",
       "LAMNE  1.684896  2.091862  2.643165  3.316923  4.191695"
      ]
     },
     "metadata": {},
     "output_type": "display_data"
    },
    {
     "name": "stdout",
     "output_type": "stream",
     "text": [
      "Average RMSPE:  2.2378826375946694\n",
      "Std RMSPE:  0.7495416046350268 \n",
      "\n",
      "32/32 [==============================] - 0s 12ms/step\n"
     ]
    },
    {
     "data": {
      "text/html": [
       "<div>\n",
       "<style scoped>\n",
       "    .dataframe tbody tr th:only-of-type {\n",
       "        vertical-align: middle;\n",
       "    }\n",
       "\n",
       "    .dataframe tbody tr th {\n",
       "        vertical-align: top;\n",
       "    }\n",
       "\n",
       "    .dataframe thead th {\n",
       "        text-align: right;\n",
       "    }\n",
       "</style>\n",
       "<table border=\"1\" class=\"dataframe\">\n",
       "  <thead>\n",
       "    <tr style=\"text-align: right;\">\n",
       "      <th></th>\n",
       "      <th>200</th>\n",
       "      <th>400</th>\n",
       "      <th>600</th>\n",
       "      <th>800</th>\n",
       "      <th>1000</th>\n",
       "    </tr>\n",
       "  </thead>\n",
       "  <tbody>\n",
       "    <tr>\n",
       "      <th>LLI</th>\n",
       "      <td>1.050230</td>\n",
       "      <td>1.110513</td>\n",
       "      <td>1.295199</td>\n",
       "      <td>1.612567</td>\n",
       "      <td>2.271381</td>\n",
       "    </tr>\n",
       "    <tr>\n",
       "      <th>LAMPE</th>\n",
       "      <td>1.407387</td>\n",
       "      <td>1.705058</td>\n",
       "      <td>2.420092</td>\n",
       "      <td>3.258179</td>\n",
       "      <td>4.187780</td>\n",
       "    </tr>\n",
       "    <tr>\n",
       "      <th>LAMNE</th>\n",
       "      <td>1.746784</td>\n",
       "      <td>2.137288</td>\n",
       "      <td>2.652703</td>\n",
       "      <td>3.296386</td>\n",
       "      <td>4.148494</td>\n",
       "    </tr>\n",
       "  </tbody>\n",
       "</table>\n",
       "</div>"
      ],
      "text/plain": [
       "           200       400       600       800       1000\n",
       "LLI    1.050230  1.110513  1.295199  1.612567  2.271381\n",
       "LAMPE  1.407387  1.705058  2.420092  3.258179  4.187780\n",
       "LAMNE  1.746784  2.137288  2.652703  3.296386  4.148494"
      ]
     },
     "metadata": {},
     "output_type": "display_data"
    },
    {
     "name": "stdout",
     "output_type": "stream",
     "text": [
      "Average RMSPE:  2.2866692769900427\n",
      "Std RMSPE:  0.7160689816659415 \n",
      "\n",
      "32/32 [==============================] - 0s 14ms/step\n"
     ]
    },
    {
     "data": {
      "text/html": [
       "<div>\n",
       "<style scoped>\n",
       "    .dataframe tbody tr th:only-of-type {\n",
       "        vertical-align: middle;\n",
       "    }\n",
       "\n",
       "    .dataframe tbody tr th {\n",
       "        vertical-align: top;\n",
       "    }\n",
       "\n",
       "    .dataframe thead th {\n",
       "        text-align: right;\n",
       "    }\n",
       "</style>\n",
       "<table border=\"1\" class=\"dataframe\">\n",
       "  <thead>\n",
       "    <tr style=\"text-align: right;\">\n",
       "      <th></th>\n",
       "      <th>200</th>\n",
       "      <th>400</th>\n",
       "      <th>600</th>\n",
       "      <th>800</th>\n",
       "      <th>1000</th>\n",
       "    </tr>\n",
       "  </thead>\n",
       "  <tbody>\n",
       "    <tr>\n",
       "      <th>LLI</th>\n",
       "      <td>1.000920</td>\n",
       "      <td>1.063329</td>\n",
       "      <td>1.238386</td>\n",
       "      <td>1.548885</td>\n",
       "      <td>2.192205</td>\n",
       "    </tr>\n",
       "    <tr>\n",
       "      <th>LAMPE</th>\n",
       "      <td>1.356027</td>\n",
       "      <td>1.728296</td>\n",
       "      <td>2.548576</td>\n",
       "      <td>3.487995</td>\n",
       "      <td>4.493353</td>\n",
       "    </tr>\n",
       "    <tr>\n",
       "      <th>LAMNE</th>\n",
       "      <td>1.838117</td>\n",
       "      <td>2.324545</td>\n",
       "      <td>2.945684</td>\n",
       "      <td>3.709088</td>\n",
       "      <td>4.703200</td>\n",
       "    </tr>\n",
       "  </tbody>\n",
       "</table>\n",
       "</div>"
      ],
      "text/plain": [
       "           200       400       600       800       1000\n",
       "LLI    1.000920  1.063329  1.238386  1.548885  2.192205\n",
       "LAMPE  1.356027  1.728296  2.548576  3.487995  4.493353\n",
       "LAMNE  1.838117  2.324545  2.945684  3.709088  4.703200"
      ]
     },
     "metadata": {},
     "output_type": "display_data"
    },
    {
     "name": "stdout",
     "output_type": "stream",
     "text": [
      "Average RMSPE:  2.4119070389262802\n",
      "Std RMSPE:  0.8894344998293058 \n",
      "\n",
      "32/32 [==============================] - 0s 13ms/step\n"
     ]
    },
    {
     "data": {
      "text/html": [
       "<div>\n",
       "<style scoped>\n",
       "    .dataframe tbody tr th:only-of-type {\n",
       "        vertical-align: middle;\n",
       "    }\n",
       "\n",
       "    .dataframe tbody tr th {\n",
       "        vertical-align: top;\n",
       "    }\n",
       "\n",
       "    .dataframe thead th {\n",
       "        text-align: right;\n",
       "    }\n",
       "</style>\n",
       "<table border=\"1\" class=\"dataframe\">\n",
       "  <thead>\n",
       "    <tr style=\"text-align: right;\">\n",
       "      <th></th>\n",
       "      <th>200</th>\n",
       "      <th>400</th>\n",
       "      <th>600</th>\n",
       "      <th>800</th>\n",
       "      <th>1000</th>\n",
       "    </tr>\n",
       "  </thead>\n",
       "  <tbody>\n",
       "    <tr>\n",
       "      <th>LLI</th>\n",
       "      <td>1.033370</td>\n",
       "      <td>1.084326</td>\n",
       "      <td>1.252086</td>\n",
       "      <td>1.585240</td>\n",
       "      <td>2.276062</td>\n",
       "    </tr>\n",
       "    <tr>\n",
       "      <th>LAMPE</th>\n",
       "      <td>1.527178</td>\n",
       "      <td>1.771069</td>\n",
       "      <td>2.461853</td>\n",
       "      <td>3.297517</td>\n",
       "      <td>4.229786</td>\n",
       "    </tr>\n",
       "    <tr>\n",
       "      <th>LAMNE</th>\n",
       "      <td>1.872128</td>\n",
       "      <td>2.324628</td>\n",
       "      <td>2.915471</td>\n",
       "      <td>3.650323</td>\n",
       "      <td>4.612412</td>\n",
       "    </tr>\n",
       "  </tbody>\n",
       "</table>\n",
       "</div>"
      ],
      "text/plain": [
       "           200       400       600       800       1000\n",
       "LLI    1.033370  1.084326  1.252086  1.585240  2.276062\n",
       "LAMPE  1.527178  1.771069  2.461853  3.297517  4.229786\n",
       "LAMNE  1.872128  2.324628  2.915471  3.650323  4.612412"
      ]
     },
     "metadata": {},
     "output_type": "display_data"
    },
    {
     "name": "stdout",
     "output_type": "stream",
     "text": [
      "Average RMSPE:  2.392896704030162\n",
      "Std RMSPE:  0.8460088636825267 \n",
      "\n",
      "Average RMSPE:  2.332338914385289\n",
      "Std RMSPE:  0.8002634874532002\n"
     ]
    }
   ],
   "source": [
    "time_steps = 5\n",
    "get_pred(model, time_steps, test_datasets_ICs, test_datasets_degradation_modes)"
   ]
  },
  {
   "cell_type": "code",
   "execution_count": 10,
   "metadata": {},
   "outputs": [
    {
     "name": "stdout",
     "output_type": "stream",
     "text": [
      "32/32 [==============================] - 1s 16ms/step\n",
      "              precision    recall  f1-score   support\n",
      "\n",
      "         0.0       0.93      0.99      0.96       753\n",
      "         1.0       0.96      0.78      0.86       247\n",
      "\n",
      "    accuracy                           0.94      1000\n",
      "   macro avg       0.94      0.88      0.91      1000\n",
      "weighted avg       0.94      0.94      0.93      1000\n",
      "\n",
      "32/32 [==============================] - 0s 12ms/step\n",
      "              precision    recall  f1-score   support\n",
      "\n",
      "         0.0       0.95      0.97      0.96       753\n",
      "         1.0       0.90      0.85      0.87       247\n",
      "\n",
      "    accuracy                           0.94      1000\n",
      "   macro avg       0.93      0.91      0.92      1000\n",
      "weighted avg       0.94      0.94      0.94      1000\n",
      "\n",
      "32/32 [==============================] - 1s 21ms/step\n",
      "              precision    recall  f1-score   support\n",
      "\n",
      "         0.0       0.95      0.98      0.96       753\n",
      "         1.0       0.93      0.85      0.89       247\n",
      "\n",
      "    accuracy                           0.95      1000\n",
      "   macro avg       0.94      0.91      0.93      1000\n",
      "weighted avg       0.95      0.95      0.95      1000\n",
      "\n",
      "32/32 [==============================] - 0s 14ms/step\n",
      "              precision    recall  f1-score   support\n",
      "\n",
      "         0.0       0.95      0.97      0.96       753\n",
      "         1.0       0.90      0.83      0.87       247\n",
      "\n",
      "    accuracy                           0.94      1000\n",
      "   macro avg       0.92      0.90      0.91      1000\n",
      "weighted avg       0.94      0.94      0.94      1000\n",
      "\n"
     ]
    }
   ],
   "source": [
    "get_pred_clf(model, test_datasets_ICs, test_datasets_silent_modes)"
   ]
  }
 ],
 "metadata": {
  "kernelspec": {
   "display_name": "Python 3",
   "language": "python",
   "name": "python3"
  },
  "language_info": {
   "codemirror_mode": {
    "name": "ipython",
    "version": 3
   },
   "file_extension": ".py",
   "mimetype": "text/x-python",
   "name": "python",
   "nbconvert_exporter": "python",
   "pygments_lexer": "ipython3",
   "version": "3.10.9"
  },
  "orig_nbformat": 4,
  "vscode": {
   "interpreter": {
    "hash": "0f867e4773a5d549f6b33974196549f54f953cbb6ad5c913ab3ce9ac160f6abd"
   }
  }
 },
 "nbformat": 4,
 "nbformat_minor": 2
}
